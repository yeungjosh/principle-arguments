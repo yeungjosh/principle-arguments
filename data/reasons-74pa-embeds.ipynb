{
 "cells": [
  {
   "cell_type": "code",
   "execution_count": null,
   "metadata": {},
   "outputs": [],
   "source": [
    "import pandas as pd\n",
    "import torch\n",
    "from infersent_model import InferSent\n",
    "import nltk\n",
    "import numpy as np\n",
    "nltk.download('punkt')\n",
    "\n",
    "# Loading Infersent sentence encoder\n",
    "params_model = {'bsize': 64, 'word_emb_dim': 300, 'enc_lstm_dim': 2048,\n",
    "                    'pool_type': 'max', 'dpout_model': 0.0, 'version': 1}\n",
    "infersent = InferSent(params_model)\n",
    "infersent.load_state_dict(torch.load('encoder/infersent1.pkl'))\n",
    "infersent.set_w2v_path('GloVe/glove.840B.300d.txt')\n",
    "infersent.build_vocab_k_words(K=100)\n",
    "\n",
    "def parse_claim_stance():\n",
    "    df = pd.read_csv(\"data/IBM_Claim_Stance/claim_stance_dataset_v1.csv\", header=0, sep=',')\n",
    "    print(df.shape[0])\n",
    "    return df[['split', 'claims.claimCorrectedText', 'claims.stance', 'topicText']]\n",
    "\n",
    "\n",
    "def measure_similarity_infersent():\n",
    "    # Gathering sentences for encoding (the claims in the\n",
    "    # 'train split' and all the principled arguments)\n",
    "    dataframe = parse_claim_stance()\n",
    "    data_train = dataframe[dataframe['split'] == 'train']\n",
    "    claims_train = data_train['claims.claimCorrectedText']\n",
    "\n",
    "    CoPAs = pd.read_pickle(r'data/principle_argument_CoPA/PA_list.pkl')\n",
    "    sentences = claims_train.values.tolist()\n",
    "    sentences.extend(CoPAs)\n",
    "    infersent.update_vocab(sentences)\n",
    "\n",
    "    # Embedding all CoPAs\n",
    "    CoPAs_embedding = []\n",
    "    for arg in CoPAs:\n",
    "        CoPAs_embedding.append(infersent.encode(arg)[0])\n",
    "    similarity_scores = []\n",
    "    for index, row in dataframe.iterrows():\n",
    "        claim_embedding = infersent.encode(row['claims.claimCorrectedText'])[0]\n",
    "        similarity = []\n",
    "        for arg in CoPAs_embedding:\n",
    "            similarity.append(cosine(claim_embedding, arg))\n",
    "        similarity_scores.append(similarity)\n",
    "\n",
    "    dataframe['similarity'] = pd.Series(similarity_scores)\n",
    "    return dataframe\n",
    "\n",
    "\n",
    "def cosine(u, v):\n",
    "    return np.dot(u, v) / (np.linalg.norm(u) * np.linalg.norm(v))\n",
    "\n",
    "\n",
    "if __name__ == '__main__':\n",
    "    measure_similarity_infersent()"
   ]
  }
 ],
 "metadata": {
  "kernelspec": {
   "display_name": "Python 3",
   "language": "python",
   "name": "python3"
  },
  "language_info": {
   "codemirror_mode": {
    "name": "ipython",
    "version": 3
   },
   "file_extension": ".py",
   "mimetype": "text/x-python",
   "name": "python",
   "nbconvert_exporter": "python",
   "pygments_lexer": "ipython3",
   "version": "3.7.6"
  },
  "varInspector": {
   "cols": {
    "lenName": 16,
    "lenType": 16,
    "lenVar": 40
   },
   "kernels_config": {
    "python": {
     "delete_cmd_postfix": "",
     "delete_cmd_prefix": "del ",
     "library": "var_list.py",
     "varRefreshCmd": "print(var_dic_list())"
    },
    "r": {
     "delete_cmd_postfix": ") ",
     "delete_cmd_prefix": "rm(",
     "library": "var_list.r",
     "varRefreshCmd": "cat(var_dic_list()) "
    }
   },
   "types_to_exclude": [
    "module",
    "function",
    "builtin_function_or_method",
    "instance",
    "_Feature"
   ],
   "window_display": false
  }
 },
 "nbformat": 4,
 "nbformat_minor": 4
}
